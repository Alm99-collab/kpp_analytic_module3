{
 "cells": [
  {
   "cell_type": "markdown",
   "source": [
    "**Задание 1**:\n",
    "\n",
    "Дана переменная, в которой хранится слово из латинских букв.\n",
    "Напишите код, который выводит на экран:\n",
    "<ul>\n",
    " <li>среднюю букву, если число букв в слове нечетное;</li>\n",
    " <li>две средних буквы, если число букв четное.</li>\n",
    " </ul>\n",
    "\n",
    "_Код программы_:"
   ],
   "metadata": {
    "collapsed": false
   }
  },
  {
   "cell_type": "code",
   "execution_count": 6,
   "outputs": [
    {
     "name": "stdout",
     "output_type": "stream",
     "text": [
      "ol\n"
     ]
    }
   ],
   "source": [
    "word = input('Enter word: ')\n",
    "w_list = list(word)\n",
    "if len(w_list) % 2 == 0:\n",
    "    print(w_list[int(len(w_list) / 2 - 1)] + w_list[int(len(w_list) / 2)])\n",
    "else:\n",
    "    print(w_list[int(len(w_list) / 2)])\n"
   ],
   "metadata": {
    "collapsed": false,
    "pycharm": {
     "name": "#%%\n"
    }
   }
  },
  {
   "cell_type": "markdown",
   "source": [
    "**Задание 2**:\n",
    "\n",
    "Напишите программу, которая последовательно запрашивает у пользователя числа\n",
    "(по одному за раз) и после первого нуля выводит сумму всех ранее введенных чисел.\n",
    "\n",
    "__Примеры работы программы:__\n",
    "\n",
    "*Введите число*:<br>\n",
    "1\n",
    "\n",
    "*Введите число*:<br>\n",
    "4\n",
    "\n",
    "*Введите число*:<br>\n",
    "6\n",
    "\n",
    "*Введите число*:<br>\n",
    "0\n",
    "\n",
    "*Введите число*:<br>\n",
    "11\n",
    "\n",
    "_Код программы_:\n"
   ],
   "metadata": {
    "collapsed": false,
    "pycharm": {
     "name": "#%% md\n"
    }
   }
  },
  {
   "cell_type": "code",
   "execution_count": 8,
   "outputs": [
    {
     "name": "stdout",
     "output_type": "stream",
     "text": [
      "Sum of entered nums: 0\n"
     ]
    }
   ],
   "source": [
    "nums = 1\n",
    "sum = 0\n",
    "while nums != 0:\n",
    "    nums = int(input('Enter numbers: '))\n",
    "    sum += nums\n",
    "print('Sum of entered nums: ' + str(sum))\n"
   ],
   "metadata": {
    "collapsed": false,
    "pycharm": {
     "name": "#%%\n"
    }
   }
  },
  {
   "cell_type": "markdown",
   "source": [
    "Мы делаем  dating-сервис, и у нас есть список парней и девушек.\n",
    "Выдвигаем гипотезу: лучшие рекомендации мы получим, если просто отсортируем\n",
    "имена по алфавиту и познакомим людей с одинаковыми индексами после сортировки!\n",
    "Но мы не будем никого знакомить, если кто-то может остаться без пары:\n",
    "\n",
    "__Примеры работы программы:__<br>\n",
    "boys = [‘Peter’, ‘Alex’, ‘John’, ‘Arthur’, ‘Richard’]<br>\n",
    "girls = [‘Kate’, ‘Liza’, ‘Kira’, ‘Emma’, ‘Trisha’]\n",
    "\n",
    "__Результат:__<br>\n",
    "Идеальные пары:<br>\n",
    "Alex и Emma<br>\n",
    "Arthur и Kate<br>\n",
    "John и Kira<br>\n",
    "Peter и Liza<br>\n",
    "Richard и Trisha\n",
    "\n",
    "_Код программы_:"
   ],
   "metadata": {
    "collapsed": false
   }
  },
  {
   "cell_type": "code",
   "execution_count": 22,
   "outputs": [
    {
     "name": "stdout",
     "output_type": "stream",
     "text": [
      "Ideal pair:\n",
      "Alex and Emma\n",
      "Arthur and Kate\n",
      "John and Kira\n",
      "Peter and Liza\n",
      "Richard and Trisha\n"
     ]
    }
   ],
   "source": [
    "boys = ['Peter','Alex', 'John', 'Arthur', 'Richard']\n",
    "girls = ['Kate', 'Liza', 'Kira', 'Emma', 'Trisha']\n",
    "if len(boys)==len(girls):\n",
    "    print(\"Ideal pairs:\")\n",
    "    boys.sort()\n",
    "    girls.sort()\n",
    "    dating = zip(boys, girls)\n",
    "    for pairlst in dating:\n",
    "        print(f\"{pairlst[0]} and {pairlst[1]}\")\n",
    "else:\n",
    "    print(\"Not pair and love is fair!\")"
   ],
   "metadata": {
    "collapsed": false,
    "pycharm": {
     "name": "#%%\n"
    }
   }
  }
 ],
 "metadata": {
  "kernelspec": {
   "display_name": "Python 3",
   "language": "python",
   "name": "python3"
  },
  "language_info": {
   "codemirror_mode": {
    "name": "ipython",
    "version": 2
   },
   "file_extension": ".py",
   "mimetype": "text/x-python",
   "name": "python",
   "nbconvert_exporter": "python",
   "pygments_lexer": "ipython2",
   "version": "2.7.6"
  }
 },
 "nbformat": 4,
 "nbformat_minor": 0
}