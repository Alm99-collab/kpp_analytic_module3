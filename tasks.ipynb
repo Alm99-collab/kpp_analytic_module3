{
 "cells": [
  {
   "cell_type": "markdown",
   "source": [
    "**Задание 1**:\n",
    "\n",
    "Дана переменная, в которой хранится слово из латинских букв.\n",
    "Напишите код, который выводит на экран:\n",
    "<ul>\n",
    " <li>среднюю букву, если число букв в слове нечетное;</li>\n",
    " <li>две средних буквы, если число букв четное.</li>\n",
    " </ul>\n",
    "\n",
    "_Код программы_:"
   ],
   "metadata": {
    "collapsed": false
   }
  },
  {
   "cell_type": "code",
   "execution_count": 6,
   "outputs": [
    {
     "name": "stdout",
     "output_type": "stream",
     "text": [
      "ol\n"
     ]
    }
   ],
   "source": [
    "word = input('Enter word: ')\n",
    "w_list = list(word)\n",
    "if len(w_list) % 2 == 0:\n",
    "    print(w_list[int(len(w_list) / 2 - 1)] + w_list[int(len(w_list) / 2)])\n",
    "else:\n",
    "    print(w_list[int(len(w_list) / 2)])"
   ],
   "metadata": {
    "collapsed": false,
    "pycharm": {
     "name": "#%%\n"
    }
   }
  },
  {
   "cell_type": "markdown",
   "source": [
    "<br>\n",
    "<br>\n",
    "\n",
    "**Задание 2**:\n",
    "\n",
    "\n",
    "Напишите программу, которая последовательно запрашивает у пользователя числа\n",
    "(по одному за раз) и после первого нуля выводит сумму всех ранее введенных чисел.\n",
    "\n",
    "__Примеры работы программы:__\n",
    "\n",
    "*Введите число*:<br>\n",
    "1\n",
    "\n",
    "*Введите число*:<br>\n",
    "4\n",
    "\n",
    "*Введите число*:<br>\n",
    "6\n",
    "\n",
    "*Введите число*:<br>\n",
    "0\n",
    "\n",
    "*Введите число*:<br>\n",
    "11\n",
    "\n",
    "_Код программы_:"
   ],
   "metadata": {
    "collapsed": false
   }
  },
  {
   "cell_type": "code",
   "execution_count": 8,
   "outputs": [
    {
     "name": "stdout",
     "output_type": "stream",
     "text": [
      "Sum of entered nums: 0\n"
     ]
    }
   ],
   "source": [
    "nums = 1\n",
    "sum = 0\n",
    "while nums != 0:\n",
    "    nums = int(input('Enter numbers: '))\n",
    "    sum += nums\n",
    "print('Sum of entered nums: ' + str(sum))\n",
    "\n",
    "\n"
   ],
   "metadata": {
    "collapsed": false,
    "pycharm": {
     "name": "#%%\n"
    }
   }
  },
  {
   "cell_type": "markdown",
   "source": [
    "<br>\n",
    "<br>\n",
    "\n",
    "**Задание 3**:\n",
    "\n",
    "Мы делаем  dating-сервис, и у нас есть список парней и девушек.\n",
    "Выдвигаем гипотезу: лучшие рекомендации мы получим, если просто отсортируем\n",
    "имена по алфавиту и познакомим людей с одинаковыми индексами после сортировки!\n",
    "Но мы не будем никого знакомить, если кто-то может остаться без пары:\n",
    "\n",
    "__Примеры работы программы:__<br>\n",
    "```\n",
    "boys = [‘Peter’, ‘Alex’, ‘John’, ‘Arthur’, ‘Richard’]\n",
    "girls = [‘Kate’, ‘Liza’, ‘Kira’, ‘Emma’, ‘Trisha’]\n",
    "```\n",
    "__Результат:__<br>\n",
    "```\n",
    "Идеальные пары:\n",
    "Alex и Emma\n",
    "Arthur и Kate\n",
    "John и Kira\n",
    "Peter и Liza\n",
    "Richard и Trisha\n",
    "```\n",
    "_Код программы_:"
   ],
   "metadata": {
    "collapsed": false
   }
  },
  {
   "cell_type": "code",
   "execution_count": 22,
   "outputs": [
    {
     "name": "stdout",
     "output_type": "stream",
     "text": [
      "Ideal pair:\n",
      "Alex and Emma\n",
      "Arthur and Kate\n",
      "John and Kira\n",
      "Peter and Liza\n",
      "Richard and Trisha\n"
     ]
    }
   ],
   "source": [
    "boys = ['Peter','Alex', 'John', 'Arthur', 'Richard']\n",
    "girls = ['Kate', 'Liza', 'Kira', 'Emma', 'Trisha']\n",
    "if len(boys)==len(girls):\n",
    "    print(\"Ideal pairs:\")\n",
    "    boys.sort()\n",
    "    girls.sort()\n",
    "    dating = zip(boys, girls)\n",
    "    for pairlst in dating:\n",
    "        print(f\"{pairlst[0]} and {pairlst[1]}\")\n",
    "else:\n",
    "    print(\"Not pair and love is fair!\")\n",
    "\n",
    "\n"
   ],
   "metadata": {
    "collapsed": false,
    "pycharm": {
     "name": "#%%\n"
    }
   }
  },
  {
   "cell_type": "markdown",
   "source": [
    "<br>\n",
    "<br>\n",
    "\n",
    "**Задание 4**:\n",
    "\n",
    "У нас есть список, содержащий информацию о среднедневной температуре в Фаренгейтах\n",
    "за произвольный период по странам (структура данных в примере). Необходимо написать код,\n",
    "который рассчитает среднюю температуру за период в Цельсиях для каждой страны.\n",
    "\n",
    "__Примеры работы программы:__<br>\n",
    "```\n",
    "countries_temperature = [<br>\n",
    "[‘Thailand’, [75.2, 77, 78.8, 73.4, 68, 75.2, 77]],<br>\n",
    "[‘Germany’, [57.2, 55.4, 59, 59, 53.6]],<br>\n",
    "[‘Russia’, [35.6, 37.4, 39.2, 41, 42.8, 39.2, 35.6]],<br>\n",
    "[‘Poland’, [50, 50, 53.6, 57.2, 55.4, 55.4]]<br>\n",
    "]\n",
    "```\n",
    "\n",
    "__Результат:__\n",
    "\n",
    "Средняя температура в странах:<br>\n",
    "```\n",
    "Thailand - 23.9 С\n",
    "Germany - 13.8 С\n",
    "Russia - 3.7 С\n",
    "Poland - 12.0 С\n",
    "```\n",
    "\n",
    "_Код программы_:"
   ],
   "metadata": {
    "collapsed": false
   }
  },
  {
   "cell_type": "code",
   "execution_count": 26,
   "outputs": [
    {
     "name": "stdout",
     "output_type": "stream",
     "text": [
      "Thailand : 23.9 °C\n",
      "Germany : 13.8 °C\n",
      "Russia : 3.7 °C\n",
      "Poland : 12.0 °C\n"
     ]
    }
   ],
   "source": [
    "from statistics import mean\n",
    "countries_temperature_list = [\n",
    "    ['Thailand', [75.2, 77, 78.8, 73.4, 68, 75.2, 77]],\n",
    "    ['Germany', [57.2, 55.4, 59, 59, 53.6]],\n",
    "    ['Russia', [35.6, 37.4, 39.2, 41, 42.8, 39.2, 35.6]],\n",
    "    ['Poland', [50, 50, 53.6, 57.2, 55.4, 55.4]]\n",
    "]\n",
    "for c in countries_temperature_list:\n",
    "    print(f\"{c[0]} : {str(round((mean(c[1]) - 32) / 1.8, 1))} °C\")\n",
    "\n",
    "\n"
   ],
   "metadata": {
    "collapsed": false,
    "pycharm": {
     "name": "#%%\n"
    }
   }
  },
  {
   "cell_type": "markdown",
   "source": [
    "<br>\n",
    "<br>\n",
    "\n",
    "**Задание 5**:\n",
    "\n",
    "Дана переменная, в которой хранится словарь, содержащий гео-метки для каждого\n",
    "пользователя (пример структуры данных приведен ниже). Вам необходимо написать\n",
    "программу, которая выведет на экран множество уникальных гео-меток всех\n",
    "пользователей.\n",
    "\n",
    "__Примеры работы программы:__<br>\n",
    "```\n",
    "ids = {‘user1’: [213, 213, 213, 15, 213],\n",
    "‘user2’: [54, 54, 119, 119, 119],\n",
    "‘user3’: [213, 98, 98, 35]}\n",
    "```\n",
    "__Результат:__ {98, 35, 15, 213, 54, 119}\n",
    "\n",
    "_Код программы_:"
   ],
   "metadata": {
    "collapsed": false
   }
  },
  {
   "cell_type": "code",
   "execution_count": 27,
   "outputs": [
    {
     "name": "stdout",
     "output_type": "stream",
     "text": [
      "{98, 35, 15, 213, 54, 119}\n"
     ]
    }
   ],
   "source": [
    "ids_dict = {'user1': [213, 213, 213, 15, 213],\n",
    "            'user2': [54, 54, 119, 119, 119],\n",
    "            'user3': [213, 98, 98, 35]}\n",
    "ids_list = []\n",
    "for value in ids_dict.values():\n",
    "    ids_list.extend(value)\n",
    "print(set(ids_list))\n",
    "\n",
    "\n"
   ],
   "metadata": {
    "collapsed": false,
    "pycharm": {
     "name": "#%%\n"
    }
   }
  },
  {
   "cell_type": "markdown",
   "source": [
    "<br>\n",
    "<br>\n",
    "\n",
    "**Задание 6**:\n",
    "\n",
    "Дана переменная, в которой хранится список поисковых запросов пользователя\n",
    "(пример структуры данных приведен ниже). Вам необходимо написать программу,\n",
    "которая выведет на экран распределение количества слов в запросах в требуемом виде.\n",
    "\n",
    "__Примеры работы программы:__<br>\n",
    "```\n",
    "queries = [\n",
    "‘смотреть сериалы онлайн’,\n",
    "‘новости спорта’,\n",
    "‘афиша кино’,\n",
    "‘курс доллара’,\n",
    "‘сериалы этим летом’,\n",
    "‘курс по питону’,\n",
    "‘сериалы про спорт’,\n",
    "]\n",
    "```\n",
    "__Результат:__\n",
    "```\n",
    "Поисковых запросов, содержащих 2 слов(а): 42.86%\n",
    "Поисковых запросов, содержащих 3 слов(а): 57.14%\n",
    "```\n",
    "\n",
    "_Код программы_:"
   ],
   "metadata": {
    "collapsed": false
   }
  },
  {
   "cell_type": "code",
   "execution_count": 28,
   "outputs": [
    {
     "name": "stdout",
     "output_type": "stream",
     "text": [
      "Поисковых запросов, содержащих 2 слов(а): 42.86%.\n",
      "Поисковых запросов, содержащих 3 слов(а): 57.14%.\n"
     ]
    }
   ],
   "source": [
    "queries_list = [\n",
    "    'смотреть сериалы онлайн',\n",
    "    'новости спорта',\n",
    "    'афиша кино',\n",
    "    'курс доллара',\n",
    "    'сериалы этим летом',\n",
    "    'курс по питону',\n",
    "    'сериалы про спорт'\n",
    "]\n",
    "print('Поисковых запросов, содержащих 2 слов(а): ' + str(\n",
    "    round(len([query for query in queries_list if query.count(' ') == 1]) / len(queries_list) * 100, 2)) + '%.')\n",
    "print('Поисковых запросов, содержащих 3 слов(а): ' + str(\n",
    "    round(len([query for query in queries_list if query.count(' ') == 2]) / len(queries_list) * 100, 2)) + '%.')\n",
    "\n"
   ],
   "metadata": {
    "collapsed": false,
    "pycharm": {
     "name": "#%%\n"
    }
   }
  },
  {
   "cell_type": "markdown",
   "source": [
    "<br>\n",
    "<br>\n",
    "\n",
    "**Задание 7**:\n",
    "\n",
    "Дана переменная, в которой хранится информация о затратах и доходе рекламных кампаний\n",
    "по различным источникам. Необходимо дополнить исходную структуру показателем ROI,\n",
    "который рассчитаем по формуле: ``` (revenue / cost - 1) * 100```\n",
    "\n",
    "__Примеры работы программы:__<br>\n",
    "```\n",
    "results = {\n",
    "‘vk’: {‘revenue’: 103, ‘cost’: 98},\n",
    "‘yandex’: {‘revenue’: 179, ‘cost’: 153},\n",
    "‘facebook’: {‘revenue’: 103, ‘cost’: 110},\n",
    "‘adwords’: {‘revenue’: 35, ‘cost’: 34},\n",
    "‘twitter’: {‘revenue’: 11, ‘cost’: 24},\n",
    "}\n",
    "```\n",
    "__Результат:__\n",
    "```\n",
    "{‘adwords’: {‘revenue’: 35, ‘cost’: 34, ‘ROI’: 2.94},\n",
    "‘facebook’: {‘revenue’: 103, ‘cost’: 110, ‘ROI’: -6.36},\n",
    "‘twitter’: {‘revenue’: 11, ‘cost’: 24, ‘ROI’: -54.17},\n",
    "‘vk’: {‘revenue’: 103, ‘cost’: 98, ‘ROI’: 5.1},\n",
    "‘yandex’: {‘revenue’: 179, ‘cost’: 153, ‘ROI’: 16.99}}\n",
    "```\n",
    "\n",
    "_Код программы_:"
   ],
   "metadata": {
    "collapsed": false
   }
  },
  {
   "cell_type": "code",
   "execution_count": 46,
   "outputs": [
    {
     "name": "stdout",
     "output_type": "stream",
     "text": [
      "OrderedDict([('adwords', {'revenue': 35, 'cost': 34, 'ROI': 2.94}), ('facebook', {'revenue': 103, 'cost': 110, 'ROI': -6.36}), ('twitter', {'revenue': 11, 'cost': 24, 'ROI': -54.17}), ('vk', {'revenue': 103, 'cost': 98, 'ROI': 5.1}), ('yandex', {'revenue': 179, 'cost': 153, 'ROI': 16.99})])\n"
     ]
    }
   ],
   "source": [
    "import collections\n",
    "results_dict = {\n",
    "    'vk': {'revenue': 103, 'cost': 98},\n",
    "    'yandex': {'revenue': 179, 'cost': 153},\n",
    "    'facebook': {'revenue': 103, 'cost': 110},\n",
    "    'adwords': {'revenue': 35, 'cost': 34},\n",
    "    'twitter': {'revenue': 11, 'cost': 24}\n",
    "}\n",
    "for value in results_dict.values():\n",
    "    value['ROI'] = round((value['revenue'] / value['cost'] - 1) * 100, 2)\n",
    "print(collections.OrderedDict(sorted(results_dict.items())))\n",
    "\n"
   ],
   "metadata": {
    "collapsed": false,
    "pycharm": {
     "name": "#%%\n"
    }
   }
  },
  {
   "cell_type": "markdown",
   "source": [
    "<br>\n",
    "<br>\n",
    "\n",
    "**Задание 8**:\n",
    "\n",
    "Дана переменная, в которой хранится статистика рекламных каналов по объемам\n",
    "продаж (пример структуры данных приведен ниже). Напишите программу, которая\n",
    "возвращает название канала с максимальным объемом продаж.\n",
    "\n",
    "__Примеры работы программы:__\n",
    "```\n",
    "stats = {\n",
    "        ‘facebook’: 55,\n",
    "        ‘yandex’: 115,\n",
    "        ‘vk’: 120,\n",
    "        ‘google’: 99,\n",
    "        ‘email’: 42,\n",
    "        ‘ok’: 98\n",
    "        }\n",
    "```\n",
    "__Результат:__<br>\n",
    "```Максимальный объем продаж на рекламном канале: vk```\n",
    "\n",
    "_Код программы_:"
   ],
   "metadata": {
    "collapsed": false
   }
  },
  {
   "cell_type": "code",
   "execution_count": 52,
   "outputs": [
    {
     "name": "stdout",
     "output_type": "stream",
     "text": [
      "Максимальный объем продаж на рекламном канале: vk\n"
     ]
    }
   ],
   "source": [
    "stats_dict = {'facebook': 55,\n",
    "              'yandex': 115,\n",
    "              'vk': 120,\n",
    "              'google': 99,\n",
    "              'email': 42,\n",
    "              'ok': 98\n",
    "              }\n",
    "print('Максимальный объем продаж на рекламном канале: '\n",
    "      + str(max(stats_dict, key=stats_dict.get)))"
   ],
   "metadata": {
    "collapsed": false,
    "pycharm": {
     "name": "#%%\n"
    }
   }
  }
 ],
 "metadata": {
  "kernelspec": {
   "display_name": "Python 3",
   "language": "python",
   "name": "python3"
  },
  "language_info": {
   "codemirror_mode": {
    "name": "ipython",
    "version": 2
   },
   "file_extension": ".py",
   "mimetype": "text/x-python",
   "name": "python",
   "nbconvert_exporter": "python",
   "pygments_lexer": "ipython2",
   "version": "2.7.6"
  }
 },
 "nbformat": 4,
 "nbformat_minor": 0
}