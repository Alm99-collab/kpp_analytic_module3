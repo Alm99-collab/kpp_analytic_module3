{
 "cells": [
  {
   "cell_type": "markdown",
   "source": [
    "**Задание 1**:\n",
    "\n",
    "Дана переменная, в которой хранится слово из латинских букв.\n",
    "Напишите код, который выводит на экран:\n",
    "<ul>\n",
    " <li>среднюю букву, если число букв в слове нечетное;</li>\n",
    " <li>две средних буквы, если число букв четное.</li>\n",
    " </ul>\n",
    "\n",
    "_Код программы_:"
   ],
   "metadata": {
    "collapsed": false
   }
  },
  {
   "cell_type": "code",
   "execution_count": 6,
   "outputs": [
    {
     "name": "stdout",
     "output_type": "stream",
     "text": [
      "ol\n"
     ]
    }
   ],
   "source": [
    "word = input('Enter word: ')\n",
    "w_list = list(word)\n",
    "if len(w_list) % 2 == 0:\n",
    "    print(w_list[int(len(w_list) / 2 - 1)] + w_list[int(len(w_list) / 2)])\n",
    "else:\n",
    "    print(w_list[int(len(w_list) / 2)])\n"
   ],
   "metadata": {
    "collapsed": false,
    "pycharm": {
     "name": "#%%\n"
    }
   }
  }
 ],
 "metadata": {
  "kernelspec": {
   "display_name": "Python 3",
   "language": "python",
   "name": "python3"
  },
  "language_info": {
   "codemirror_mode": {
    "name": "ipython",
    "version": 2
   },
   "file_extension": ".py",
   "mimetype": "text/x-python",
   "name": "python",
   "nbconvert_exporter": "python",
   "pygments_lexer": "ipython2",
   "version": "2.7.6"
  }
 },
 "nbformat": 4,
 "nbformat_minor": 0
}